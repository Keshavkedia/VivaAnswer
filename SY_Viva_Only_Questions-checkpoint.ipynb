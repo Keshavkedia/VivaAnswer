{
 "cells": [
  {
   "cell_type": "markdown",
   "id": "5b9ec3d4",
   "metadata": {},
   "source": [
    "# SY Viva\n",
    "\n",
    "- Name\n",
    "- Division\n",
    "- Roll Number\n",
    "\n",
    "## Instructions\n",
    "1. Answer the two questions below by 4:45 pm\n",
    "2. Upload your work to Github by 4:50 pm. No submissions uploaded after 4:40 pm will be reviewed.\n",
    "3. Invite the following collaborators to the Github Repo: jjadvani01, zoshuateaching, sheamehta, DishaVasa\n",
    "4. Submit a link to your Github repository on Google Classroom. \n",
    "5. Once completed, raise your hand on Zoom \n",
    "6. You will be sent to a breakout room for 5 minutes to explain your solution. Your TA will ask you to explain the code you have written. All you need to do is to explain what each line of code does. During the meeting, the TA will not tell you if you are correct or wrong. They will only take notes on your answers. \n",
    "7\n",
    ". Once your Viva is completed, you may feel free to drop off the call. "
   ]
  },
  {
   "cell_type": "markdown",
   "id": "814e628a",
   "metadata": {},
   "source": [
    "# Part 1: Do Not Touch"
   ]
  },
  {
   "cell_type": "code",
   "execution_count": null,
   "id": "2fab93bf",
   "metadata": {},
   "outputs": [],
   "source": [
    "# DO NOT DELETE: Import the Pandas, Seaborn, and Matplotlib Packages\n",
    "import pandas as pd\n",
    "import seaborn as sns\n",
    "import matplotlib.pyplot as plt"
   ]
  },
  {
   "cell_type": "code",
   "execution_count": null,
   "id": "a19bc948",
   "metadata": {},
   "outputs": [],
   "source": [
    "# DO NOT DELETE: Print all rows of all dataframes\n",
    "pd.set_option('display.max_rows', None)\n",
    "pd.options.display.float_format = \"{:,.2f}\".format"
   ]
  },
  {
   "cell_type": "markdown",
   "id": "10c6550b",
   "metadata": {},
   "source": [
    "# Part 2: Importing the Data"
   ]
  },
  {
   "cell_type": "code",
   "execution_count": null,
   "id": "e849d4e7",
   "metadata": {},
   "outputs": [],
   "source": [
    "# Import the \"Australian_Grocery_Store_Data_2017.csv\" and save it as a dataframe called trans_df\n",
    "\n",
    "\n",
    "# Print the first 5 rows of trans_2017_df. You should see dates from the year 2017 present\n"
   ]
  },
  {
   "cell_type": "code",
   "execution_count": null,
   "id": "6f6f6ccd",
   "metadata": {},
   "outputs": [],
   "source": [
    "# Create and print a variable called \"total_rows\" that tells us How many rows in total are present in trans_df\n"
   ]
  },
  {
   "cell_type": "markdown",
   "id": "e63a9673",
   "metadata": {},
   "source": [
    "# Part 3: Adding Arithmetic Columns"
   ]
  },
  {
   "cell_type": "code",
   "execution_count": null,
   "id": "caf9d287",
   "metadata": {},
   "outputs": [],
   "source": [
    "# Add a column called \"total_buying_price\" (Formula: unit_buying_price * quantity)\n",
    "\n",
    "# Add a column called \"total_selling price\" (Formula: unit_selling_price * quantity)\n",
    "\n",
    "\n",
    "# Add a column called \"total_margin\" (Formula: unit_price_margin * quantity)\n",
    "\n",
    "\n",
    "# Print the first 5 rows of trans_df to show that these columns have been added\n"
   ]
  },
  {
   "cell_type": "markdown",
   "id": "9a14f1d1",
   "metadata": {},
   "source": [
    "# Part 4: High Level Item Analysis"
   ]
  },
  {
   "cell_type": "code",
   "execution_count": null,
   "id": "f857d2c0",
   "metadata": {},
   "outputs": [],
   "source": [
    "# Using the Group By and Agg Pandas Functions\n",
    "# Create a dataframe using \"trans_df\" called \"items_df\" that has the following columns:\n",
    "    # item_name\n",
    "    # unit_buying_price (Mean of Unit Buying Price)\n",
    "    # unit_selling_price (Mean of Unit Selling Price)\n",
    "    # unit_price_margin (Mean of Unit Price Margin)\n",
    "    # quantity (Sum of Quantity)\n",
    "    # investment (Sum of Total Buying Price)\n",
    "    # revenue (Sum of Total Selling Price)\n",
    "    # profit (Sum of Total Margin)\n",
    "    \n",
    "\n",
    "\n",
    "# Print the top 20 items in items_df by the profit column in ascending order\n"
   ]
  },
  {
   "cell_type": "markdown",
   "id": "7faceb3f",
   "metadata": {},
   "source": [
    "# Part 5: Filtering"
   ]
  },
  {
   "cell_type": "code",
   "execution_count": null,
   "id": "89d15d60",
   "metadata": {},
   "outputs": [],
   "source": [
    "# DO NOT DELETE THIS LINE\n",
    "# Reset the index of items_df \n",
    "items_df = items_df.reset_index()"
   ]
  },
  {
   "cell_type": "code",
   "execution_count": null,
   "id": "8289f9f9",
   "metadata": {},
   "outputs": [],
   "source": [
    "# Make a datframe called \"high_revenue_df\" that has only items that earned a revenue above or equal to 5,000\n",
    "\n",
    "\n",
    "# Print high_revenue_df in descending order of revenue\n"
   ]
  }
 ],
 "metadata": {
  "kernelspec": {
   "display_name": "Python 3 (ipykernel)",
   "language": "python",
   "name": "python3"
  },
  "language_info": {
   "codemirror_mode": {
    "name": "ipython",
    "version": 3
   },
   "file_extension": ".py",
   "mimetype": "text/x-python",
   "name": "python",
   "nbconvert_exporter": "python",
   "pygments_lexer": "ipython3",
   "version": "3.9.7"
  }
 },
 "nbformat": 4,
 "nbformat_minor": 5
}
